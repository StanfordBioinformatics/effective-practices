{
 "cells": [
  {
   "cell_type": "markdown",
   "id": "b01e2d60-d00f-4713-96be-8a00f50e701a",
   "metadata": {
    "tags": []
   },
   "source": [
    "# Effective Practices for  Writing Jupyter Notebooks to Implement Methods on Google Cloud\n",
    "\n",
    "## When creating a notebook\n",
    "- Begin with a detailed summary of what the workflow does. What is the purpose of this workflow? What are the output files? What will these files be used for? How were the input files generated?\n",
    "- Describe any dependencies needed. Descriptions of novel tools and possible links should also be included. For example, Trellis may not be a tool a user is familiar with and background information could be useful.\n",
    "- Limit use of acronyms i.e., BQ for 15000 sample list. Instead use Base Quality(BQ) for 15000 sample list.\n",
    "- Provide a brief description of each file. A description of what the file is, where it comes from, and what it is used for should be included. A description of this files sensitivity should be stated. Who can view/access this file?\n",
    "- Limit the use of local addresses to those that are contained in the repo. All other files should be accessed through gsutil.\n",
    "- Adding line numbers to code could help in debugging.\n",
    "- Make sure all sections run properly. one line of code, c19_core_df=c19_df[[ mvp_covid19_covar_20210603.tsv'shipping_id','casedefinition','hare','sex','age','BMI']], did not work properly. I had to troubleshoot and edit this line.  \n",
    "- Make sure final product is clean of junk code. Are lines of commented out code needed? Some steps don't seem necessary. One of these is creating a storage client. If these is a necessary step, a description of its use should be included. \n",
    "\n",
    "## When running a notebook\n",
    "- Make sure that all dependencies are installed.\n",
    "- Before running any command on cloud services.\n",
    "     - Make sure you have proper dependencies installed.\n",
    "     - Check file sizes. Running very large files can be expensive.\n",
    "     - Double check memory usage of software being run. Memory intensive programs can be expensive to run.\n",
    "- Familiarize yourself with Jupyter Notebooks.\n",
    "    - If you do not have Jupyterlab installed on you local machine, you can install using: <br> pip install jupyterlab\n",
    "    - Jupyterlab can be opened from the GitHub repo directory using: <br> jupyter-lab\n",
    "- Familiarize yourself with GitHub.\n",
    "    - You may need to clone a repo to your local machine. Once cloned, the notebook will need to be run from the repo directory so that files contained within can be accessed. Repos can be cloned using: <br> git clone repo_address\n",
    "- Familiarize yourself with the Google Cloud environment.\n",
    "    - If you do not have CloudSDK installed on your local machine, you can do so by clicking [this link](https://cloud.google.com/sdk/docs/install).\n",
    "    - The Google Cloud [console](console.cloud.google.com) is a great place to begin working in the cloud environment. "
   ]
  },
  {
   "cell_type": "code",
   "execution_count": null,
   "id": "e6c0ca70-4814-4f14-948e-7de2392d0aa4",
   "metadata": {},
   "outputs": [],
   "source": []
  },
  {
   "cell_type": "code",
   "execution_count": null,
   "id": "127b629e-57b0-4409-b98a-7d188ecd289a",
   "metadata": {},
   "outputs": [],
   "source": []
  }
 ],
 "metadata": {
  "kernelspec": {
   "display_name": "Python 3 (ipykernel)",
   "language": "python",
   "name": "python3"
  },
  "language_info": {
   "codemirror_mode": {
    "name": "ipython",
    "version": 3
   },
   "file_extension": ".py",
   "mimetype": "text/x-python",
   "name": "python",
   "nbconvert_exporter": "python",
   "pygments_lexer": "ipython3",
   "version": "3.9.5"
  }
 },
 "nbformat": 4,
 "nbformat_minor": 5
}
